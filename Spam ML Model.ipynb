{
 "cells": [
  {
   "cell_type": "markdown",
   "id": "b036dad2",
   "metadata": {},
   "source": [
    "# SPAM SMS DETECTION"
   ]
  },
  {
   "cell_type": "markdown",
   "id": "ef96bc21",
   "metadata": {},
   "source": [
    "## Build an AI model that can classify SMS messages as spam or legitimate. Use techniques like TF-IDF or word embeddings with classifiers like Naive Bayes, Logistic Regression, or Support Vector Machines to identify spam messages"
   ]
  },
  {
   "cell_type": "code",
   "execution_count": 2,
   "id": "de48acda",
   "metadata": {},
   "outputs": [
    {
     "name": "stdout",
     "output_type": "stream",
     "text": [
      "Accuracy: 0.9668161434977578\n",
      "Confusion Matrix:\n",
      "[[965   0]\n",
      " [ 37 113]]\n",
      "Classification Report:\n",
      "              precision    recall  f1-score   support\n",
      "\n",
      "    Not spam       0.96      1.00      0.98       965\n",
      "        spam       1.00      0.75      0.86       150\n",
      "\n",
      "    accuracy                           0.97      1115\n",
      "   macro avg       0.98      0.88      0.92      1115\n",
      "weighted avg       0.97      0.97      0.96      1115\n",
      "\n",
      "Enter an SMS message: 07732584351 - Rodger Burns - MSG = We tried to call you re your reply to our sms for a free nokia mobile + free camcorder. Please call now 08000930705 for delivery tomorrow\n",
      "Prediction: spam\n"
     ]
    }
   ],
   "source": [
    "import pandas as pd\n",
    "from sklearn.model_selection import train_test_split\n",
    "from sklearn.feature_extraction.text import TfidfVectorizer\n",
    "from sklearn.naive_bayes import MultinomialNB\n",
    "from sklearn.metrics import accuracy_score, classification_report, confusion_matrix\n",
    "from nltk.corpus import stopwords\n",
    "from nltk.stem import PorterStemmer\n",
    "from sklearn.pipeline import Pipeline\n",
    "\n",
    "# Load the SMS spam dataset\n",
    "spam_data = pd.read_csv(\"C:\\\\Users\\\\Jenisha Rebello\\\\Downloads\\\\spam.csv\", encoding='latin-1')\n",
    "\n",
    "# Preprocess: Remove stop words and perform stemming\n",
    "stop_words = set(stopwords.words(\"english\"))\n",
    "stemmer = PorterStemmer()\n",
    "\n",
    "def preprocess_text(text):\n",
    "    words = text.split()\n",
    "    words = [stemmer.stem(word) for word in words if word.lower() not in stop_words]\n",
    "    return \" \".join(words)\n",
    "\n",
    "spam_data['Processed_SMS'] = spam_data['SMS'].apply(preprocess_text)\n",
    "\n",
    "# Split the dataset into training and testing sets\n",
    "X_train, X_test, y_train, y_test = train_test_split(spam_data['Processed_SMS'], spam_data['Label'], test_size=0.2, random_state=42)\n",
    "\n",
    "# Create a pipeline with TF-IDF vectorizer and Naive Bayes classifier\n",
    "spam_classifier = Pipeline([\n",
    "    ('tfidf_vectorizer', TfidfVectorizer()),\n",
    "    ('naive_bayes_classifier', MultinomialNB())\n",
    "])\n",
    "\n",
    "# Train the model\n",
    "spam_classifier.fit(X_train, y_train)\n",
    "\n",
    "# Make predictions on the test set\n",
    "test_predictions = spam_classifier.predict(X_test)\n",
    "\n",
    "# Print accuracy and metrics\n",
    "accuracy = accuracy_score(test_predictions, y_test)\n",
    "confusion_matrix_result = confusion_matrix(y_test, test_predictions)\n",
    "classification_report_result = classification_report(y_test, test_predictions)\n",
    "\n",
    "print(\"Accuracy:\", accuracy)\n",
    "print(\"Confusion Matrix:\")\n",
    "print(confusion_matrix_result)\n",
    "print(\"Classification Report:\")\n",
    "print(classification_report_result)\n",
    "\n",
    "# Take user input\n",
    "user_input_sms = input(\"Enter an SMS message: \")\n",
    "\n",
    "# Make predictions on the user input\n",
    "user_input_processed = preprocess_text(user_input_sms)\n",
    "user_prediction = spam_classifier.predict([user_input_processed])\n",
    "\n",
    "# Display the prediction\n",
    "print(f\"Prediction: {user_prediction[0]}\")"
   ]
  },
  {
   "cell_type": "code",
   "execution_count": null,
   "id": "b19484ce",
   "metadata": {},
   "outputs": [],
   "source": []
  }
 ],
 "metadata": {
  "kernelspec": {
   "display_name": "Python 3 (ipykernel)",
   "language": "python",
   "name": "python3"
  },
  "language_info": {
   "codemirror_mode": {
    "name": "ipython",
    "version": 3
   },
   "file_extension": ".py",
   "mimetype": "text/x-python",
   "name": "python",
   "nbconvert_exporter": "python",
   "pygments_lexer": "ipython3",
   "version": "3.11.5"
  }
 },
 "nbformat": 4,
 "nbformat_minor": 5
}
